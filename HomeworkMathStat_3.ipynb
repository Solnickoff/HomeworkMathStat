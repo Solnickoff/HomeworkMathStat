{
 "cells": [
  {
   "cell_type": "markdown",
   "id": "8966cbad",
   "metadata": {},
   "source": [
    "### Задание 1"
   ]
  },
  {
   "cell_type": "code",
   "execution_count": 2,
   "id": "ecc94fdd",
   "metadata": {},
   "outputs": [],
   "source": [
    "import numpy as np"
   ]
  },
  {
   "cell_type": "code",
   "execution_count": 3,
   "id": "56d73e4f",
   "metadata": {},
   "outputs": [],
   "source": [
    "a = np.array([100, 80, 75, 77, 89, 33, 45, 25, 65, 17, 30, 24, 57, 55, 70, 75, 65, 84, 90, 150])"
   ]
  },
  {
   "cell_type": "code",
   "execution_count": 4,
   "id": "ddc03157",
   "metadata": {},
   "outputs": [
    {
     "data": {
      "text/plain": [
       "65.3"
      ]
     },
     "execution_count": 4,
     "metadata": {},
     "output_type": "execute_result"
    }
   ],
   "source": [
    "avarage = sum(a)/len(a)\n",
    "avarage"
   ]
  },
  {
   "cell_type": "code",
   "execution_count": 5,
   "id": "0f9c52ce",
   "metadata": {},
   "outputs": [
    {
     "data": {
      "text/plain": [
       "30.823854398825596"
      ]
     },
     "execution_count": 5,
     "metadata": {},
     "output_type": "execute_result"
    }
   ],
   "source": [
    "avr_otkl = np.sqrt(sum((a-avarage)**2)/len(a))\n",
    "avr_otkl"
   ]
  },
  {
   "cell_type": "code",
   "execution_count": 6,
   "id": "796223c5",
   "metadata": {},
   "outputs": [
    {
     "data": {
      "text/plain": [
       "950.11"
      ]
     },
     "execution_count": 6,
     "metadata": {},
     "output_type": "execute_result"
    }
   ],
   "source": [
    "disp_smesh = avr_otkl**2\n",
    "disp_smesh"
   ]
  },
  {
   "cell_type": "code",
   "execution_count": 7,
   "id": "3ef7ef6e",
   "metadata": {},
   "outputs": [
    {
     "data": {
      "text/plain": [
       "1000.1157894736842"
      ]
     },
     "execution_count": 7,
     "metadata": {},
     "output_type": "execute_result"
    }
   ],
   "source": [
    "disp_nesmesh = sum((a-avarage)**2)/(len(a)-1)\n",
    "disp_nesmesh"
   ]
  },
  {
   "cell_type": "markdown",
   "id": "ed5c68f2",
   "metadata": {},
   "source": [
    "### Задание 2"
   ]
  },
  {
   "cell_type": "code",
   "execution_count": 8,
   "id": "d7b38320",
   "metadata": {},
   "outputs": [],
   "source": [
    "w1 = 5\n",
    "b1 = 3\n",
    "w2 = 5\n",
    "b2 = 7\n",
    "box1 = w1+b1\n",
    "box2 = w2+b2\n",
    "n1 = 2\n",
    "n2 = 4"
   ]
  },
  {
   "cell_type": "code",
   "execution_count": 10,
   "id": "468cf449",
   "metadata": {},
   "outputs": [],
   "source": [
    "P_zero_white_box1 = b1/box1 * (b1-1)/(box1-1)"
   ]
  },
  {
   "cell_type": "code",
   "execution_count": 11,
   "id": "6b639e5f",
   "metadata": {},
   "outputs": [],
   "source": [
    "P_three_white_box2 = w2/box2 * (w2-1)/(box2-1) * (w2-2)/(box2-2) * (b2)/(box2-3)"
   ]
  },
  {
   "cell_type": "code",
   "execution_count": 12,
   "id": "b8afa57e",
   "metadata": {},
   "outputs": [],
   "source": [
    "P_one_white_box1 = w1/box1 * b1/(box1-1)"
   ]
  },
  {
   "cell_type": "code",
   "execution_count": 13,
   "id": "73eac6ba",
   "metadata": {},
   "outputs": [],
   "source": [
    "P_two_white_box2 =  w2/box2 * (w2-1)/(box2-1) * (b2)/(box2-2) * (b2-1)/(box2-3)"
   ]
  },
  {
   "cell_type": "code",
   "execution_count": 14,
   "id": "ebe8aca3",
   "metadata": {},
   "outputs": [],
   "source": [
    "P_two_white_box1 = w1/box1 * (w1-1)/(box1-1)"
   ]
  },
  {
   "cell_type": "code",
   "execution_count": 15,
   "id": "191013c3",
   "metadata": {},
   "outputs": [],
   "source": [
    "P_one_white_box2 = w2/box2 * b2/(box2-1) * (b2-1)/(box2-2) * (b2-2)/(box2-3)"
   ]
  },
  {
   "cell_type": "code",
   "execution_count": 16,
   "id": "cb8868ab",
   "metadata": {},
   "outputs": [],
   "source": [
    "P_three_white = (P_zero_white_box1 * P_three_white_box2) + (P_one_white_box1 * P_two_white_box2) + (P_two_white_box1 * P_one_white_box2)"
   ]
  },
  {
   "cell_type": "code",
   "execution_count": 18,
   "id": "258d040b",
   "metadata": {},
   "outputs": [
    {
     "data": {
      "text/plain": [
       "0.054292929292929296"
      ]
     },
     "execution_count": 18,
     "metadata": {},
     "output_type": "execute_result"
    }
   ],
   "source": [
    "P_three_white"
   ]
  },
  {
   "cell_type": "markdown",
   "id": "e0a8c487",
   "metadata": {},
   "source": [
    "### Задание 3"
   ]
  },
  {
   "cell_type": "code",
   "execution_count": 20,
   "id": "c2c780be",
   "metadata": {},
   "outputs": [],
   "source": [
    "B1 = 0.9\n",
    "B2 = 0.8\n",
    "B3 = 0.6\n",
    "P_A = 1/3 * B1 + 1/3 * B2 + 1/3 * B3"
   ]
  },
  {
   "cell_type": "markdown",
   "id": "b8083372",
   "metadata": {},
   "source": [
    "а) Вероятность, что выстрелил первый спортсмен"
   ]
  },
  {
   "cell_type": "code",
   "execution_count": 21,
   "id": "05486757",
   "metadata": {},
   "outputs": [
    {
     "data": {
      "text/plain": [
       "0.391304347826087"
      ]
     },
     "execution_count": 21,
     "metadata": {},
     "output_type": "execute_result"
    }
   ],
   "source": [
    "P1 = (1/3*B1)/P_A\n",
    "P1"
   ]
  },
  {
   "cell_type": "markdown",
   "id": "4535050d",
   "metadata": {},
   "source": [
    "б) Вероятность, что выстрелил второй спортсмен"
   ]
  },
  {
   "cell_type": "code",
   "execution_count": 22,
   "id": "e3c3f9cc",
   "metadata": {},
   "outputs": [
    {
     "data": {
      "text/plain": [
       "0.3478260869565218"
      ]
     },
     "execution_count": 22,
     "metadata": {},
     "output_type": "execute_result"
    }
   ],
   "source": [
    "P2 = (1/3*B2)/P_A\n",
    "P2"
   ]
  },
  {
   "cell_type": "markdown",
   "id": "8a26ef53",
   "metadata": {},
   "source": [
    "в) Вероятность, что выстрелил третий спортсмен"
   ]
  },
  {
   "cell_type": "code",
   "execution_count": 23,
   "id": "279720fe",
   "metadata": {},
   "outputs": [
    {
     "data": {
      "text/plain": [
       "0.2608695652173913"
      ]
     },
     "execution_count": 23,
     "metadata": {},
     "output_type": "execute_result"
    }
   ],
   "source": [
    "P3 = (1/3*B3)/P_A\n",
    "P3"
   ]
  },
  {
   "cell_type": "markdown",
   "id": "6bb14a1c",
   "metadata": {},
   "source": [
    "### Задание 4"
   ]
  },
  {
   "cell_type": "code",
   "execution_count": 24,
   "id": "4d9b53b9",
   "metadata": {},
   "outputs": [],
   "source": [
    "B1 = 0.8\n",
    "B2 = 0.7\n",
    "B3 = 0.9\n",
    "P_A = 1/4 * B1 + 1/4 * B2 + 1/2 * B3"
   ]
  },
  {
   "cell_type": "code",
   "execution_count": null,
   "id": "79545665",
   "metadata": {},
   "outputs": [],
   "source": [
    "а) Вероятность, что студент сдал из первого факультета"
   ]
  },
  {
   "cell_type": "code",
   "execution_count": 25,
   "id": "42f3454e",
   "metadata": {},
   "outputs": [
    {
     "data": {
      "text/plain": [
       "0.24242424242424246"
      ]
     },
     "execution_count": 25,
     "metadata": {},
     "output_type": "execute_result"
    }
   ],
   "source": [
    "P1 = (1/4*B1)/P_A\n",
    "P1"
   ]
  },
  {
   "cell_type": "markdown",
   "id": "9480ece3",
   "metadata": {},
   "source": [
    "б) Вероятность, что студент сдал из второго факультета"
   ]
  },
  {
   "cell_type": "code",
   "execution_count": 26,
   "id": "20ae5e0c",
   "metadata": {},
   "outputs": [
    {
     "data": {
      "text/plain": [
       "0.21212121212121213"
      ]
     },
     "execution_count": 26,
     "metadata": {},
     "output_type": "execute_result"
    }
   ],
   "source": [
    "P2 = (1/4*B2)/P_A\n",
    "P2"
   ]
  },
  {
   "cell_type": "markdown",
   "id": "7b1a1a2f",
   "metadata": {},
   "source": [
    "в) Вероятность, что студент сдал из третьего факультета"
   ]
  },
  {
   "cell_type": "code",
   "execution_count": 27,
   "id": "2b738303",
   "metadata": {},
   "outputs": [
    {
     "data": {
      "text/plain": [
       "0.5454545454545455"
      ]
     },
     "execution_count": 27,
     "metadata": {},
     "output_type": "execute_result"
    }
   ],
   "source": [
    "P3 = (1/2*B3)/P_A\n",
    "P3"
   ]
  },
  {
   "cell_type": "markdown",
   "id": "ea433141",
   "metadata": {},
   "source": [
    "### Задание 5"
   ]
  },
  {
   "cell_type": "code",
   "execution_count": 28,
   "id": "de4209a9",
   "metadata": {},
   "outputs": [],
   "source": [
    "P_B1 = 0.1\n",
    "P_B2 = 0.2\n",
    "P_B3 = 0.25"
   ]
  },
  {
   "cell_type": "markdown",
   "id": "79338d24",
   "metadata": {},
   "source": [
    "a) Вероятность, что все детали выйдут из строя"
   ]
  },
  {
   "cell_type": "code",
   "execution_count": 29,
   "id": "d2581572",
   "metadata": {},
   "outputs": [
    {
     "data": {
      "text/plain": [
       "0.005000000000000001"
      ]
     },
     "execution_count": 29,
     "metadata": {},
     "output_type": "execute_result"
    }
   ],
   "source": [
    "P_all = P_B1*P_B2*P_B3\n",
    "P_all"
   ]
  },
  {
   "cell_type": "markdown",
   "id": "c6faafe9",
   "metadata": {},
   "source": [
    "б) Вероятность, что только две детали выйдут из строя"
   ]
  },
  {
   "cell_type": "code",
   "execution_count": 31,
   "id": "61d1ba59",
   "metadata": {},
   "outputs": [
    {
     "data": {
      "text/plain": [
       "0.08000000000000002"
      ]
     },
     "execution_count": 31,
     "metadata": {},
     "output_type": "execute_result"
    }
   ],
   "source": [
    "P_two = (P_B1 *  P_B2 * (1 - P_B3)) + ((1-P_B1) * P_B2 * P_B3) + (P_B1 * (1 - P_B2) * P_B3)\n",
    "P_two"
   ]
  },
  {
   "cell_type": "markdown",
   "id": "a1239165",
   "metadata": {},
   "source": [
    "в) Вероятность, что только одна деталь выйдет из строя"
   ]
  },
  {
   "cell_type": "code",
   "execution_count": 32,
   "id": "4cf04a00",
   "metadata": {},
   "outputs": [
    {
     "data": {
      "text/plain": [
       "0.375"
      ]
     },
     "execution_count": 32,
     "metadata": {},
     "output_type": "execute_result"
    }
   ],
   "source": [
    "P_one = (P_B1 * (1 - P_B2) * (1 - P_B3)) + ((1-P_B1) * P_B2 * (1 - P_B3)) + ((1-P_B1) * (1 - P_B2) * P_B3)\n",
    "P_one"
   ]
  },
  {
   "cell_type": "markdown",
   "id": "1eecf883",
   "metadata": {},
   "source": [
    "г) Вероятность, что только от одной до двух деталей выйдет из строя"
   ]
  },
  {
   "cell_type": "code",
   "execution_count": 33,
   "id": "0b14f281",
   "metadata": {},
   "outputs": [
    {
     "data": {
      "text/plain": [
       "0.455"
      ]
     },
     "execution_count": 33,
     "metadata": {},
     "output_type": "execute_result"
    }
   ],
   "source": [
    "P_one_or_two = P_two + P_one\n",
    "P_one_or_two"
   ]
  },
  {
   "cell_type": "code",
   "execution_count": null,
   "id": "2564492c",
   "metadata": {},
   "outputs": [],
   "source": []
  }
 ],
 "metadata": {
  "kernelspec": {
   "display_name": "Python 3 (ipykernel)",
   "language": "python",
   "name": "python3"
  },
  "language_info": {
   "codemirror_mode": {
    "name": "ipython",
    "version": 3
   },
   "file_extension": ".py",
   "mimetype": "text/x-python",
   "name": "python",
   "nbconvert_exporter": "python",
   "pygments_lexer": "ipython3",
   "version": "3.9.12"
  }
 },
 "nbformat": 4,
 "nbformat_minor": 5
}
