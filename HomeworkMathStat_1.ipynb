{
 "cells": [
  {
   "cell_type": "markdown",
   "id": "0e4986dd",
   "metadata": {},
   "source": [
    "### Задание 1"
   ]
  },
  {
   "cell_type": "code",
   "execution_count": 2,
   "id": "50e01bd7",
   "metadata": {},
   "outputs": [],
   "source": [
    "from math import factorial\n",
    "import numpy as np"
   ]
  },
  {
   "cell_type": "code",
   "execution_count": 3,
   "id": "cdc8b785",
   "metadata": {},
   "outputs": [],
   "source": [
    "cards = 52"
   ]
  },
  {
   "cell_type": "code",
   "execution_count": 4,
   "id": "2c54c545",
   "metadata": {},
   "outputs": [],
   "source": [
    "def soch(a, b):\n",
    "    return factorial(a)/(factorial(b)*factorial(a-b))"
   ]
  },
  {
   "cell_type": "markdown",
   "id": "a4f5e9a3",
   "metadata": {},
   "source": [
    "A"
   ]
  },
  {
   "cell_type": "code",
   "execution_count": 19,
   "id": "53278f37",
   "metadata": {},
   "outputs": [],
   "source": [
    "m = soch(13, 4)"
   ]
  },
  {
   "cell_type": "code",
   "execution_count": 20,
   "id": "62ab0887",
   "metadata": {},
   "outputs": [],
   "source": [
    "n = soch(52, 4)"
   ]
  },
  {
   "cell_type": "code",
   "execution_count": 21,
   "id": "bc631735",
   "metadata": {},
   "outputs": [
    {
     "data": {
      "text/plain": [
       "0.26410564225690275"
      ]
     },
     "execution_count": 21,
     "metadata": {},
     "output_type": "execute_result"
    }
   ],
   "source": [
    "P_all_kresti = m/n * 100\n",
    "P_all_kresti"
   ]
  },
  {
   "cell_type": "markdown",
   "id": "67094174",
   "metadata": {},
   "source": [
    "B"
   ]
  },
  {
   "cell_type": "code",
   "execution_count": 16,
   "id": "5f312d1c",
   "metadata": {},
   "outputs": [],
   "source": [
    "m1 = soch(48, 4)"
   ]
  },
  {
   "cell_type": "code",
   "execution_count": 17,
   "id": "ead40b0b",
   "metadata": {},
   "outputs": [
    {
     "data": {
      "text/plain": [
       "28.12632745405854"
      ]
     },
     "execution_count": 17,
     "metadata": {},
     "output_type": "execute_result"
    }
   ],
   "source": [
    "P_one_tuz = (1 - m1/n)*100\n",
    "P_one_tuz"
   ]
  },
  {
   "cell_type": "markdown",
   "id": "3c9d23b8",
   "metadata": {},
   "source": [
    "### Задание 2"
   ]
  },
  {
   "cell_type": "code",
   "execution_count": 5,
   "id": "525ff8d6",
   "metadata": {},
   "outputs": [
    {
     "data": {
      "text/plain": [
       "0.008333333333333333"
      ]
     },
     "execution_count": 5,
     "metadata": {},
     "output_type": "execute_result"
    }
   ],
   "source": [
    "P_one_chance = 1 / soch(10, 3)\n",
    "P_one_chance"
   ]
  },
  {
   "cell_type": "markdown",
   "id": "6356cc98",
   "metadata": {},
   "source": [
    "### Задание 3"
   ]
  },
  {
   "cell_type": "code",
   "execution_count": 7,
   "id": "09640340",
   "metadata": {},
   "outputs": [
    {
     "data": {
      "text/plain": [
       "0.1846153846153846"
      ]
     },
     "execution_count": 7,
     "metadata": {},
     "output_type": "execute_result"
    }
   ],
   "source": [
    "P_all_color = 9/15 * 8/14 * 7/13\n",
    "P_all_color"
   ]
  },
  {
   "cell_type": "markdown",
   "id": "d824d980",
   "metadata": {},
   "source": [
    "### Задание 4"
   ]
  },
  {
   "cell_type": "code",
   "execution_count": 9,
   "id": "e35650e7",
   "metadata": {},
   "outputs": [
    {
     "data": {
      "text/plain": [
       "0.00020202020202020202"
      ]
     },
     "execution_count": 9,
     "metadata": {},
     "output_type": "execute_result"
    }
   ],
   "source": [
    "P_two_wins_tickets = 1/50 * 1/99\n",
    "P_two_wins_tickets"
   ]
  }
 ],
 "metadata": {
  "kernelspec": {
   "display_name": "Python 3 (ipykernel)",
   "language": "python",
   "name": "python3"
  },
  "language_info": {
   "codemirror_mode": {
    "name": "ipython",
    "version": 3
   },
   "file_extension": ".py",
   "mimetype": "text/x-python",
   "name": "python",
   "nbconvert_exporter": "python",
   "pygments_lexer": "ipython3",
   "version": "3.9.12"
  }
 },
 "nbformat": 4,
 "nbformat_minor": 5
}
