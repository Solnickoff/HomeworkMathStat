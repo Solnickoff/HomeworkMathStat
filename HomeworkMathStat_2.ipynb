{
 "cells": [
  {
   "cell_type": "markdown",
   "id": "37010712",
   "metadata": {},
   "source": [
    "### Задание 1"
   ]
  },
  {
   "cell_type": "code",
   "execution_count": 1,
   "id": "ce1f5d00",
   "metadata": {},
   "outputs": [],
   "source": [
    "import numpy as np"
   ]
  },
  {
   "cell_type": "code",
   "execution_count": 2,
   "id": "f76a5055",
   "metadata": {},
   "outputs": [],
   "source": [
    "p = 0.8\n",
    "k = 85\n",
    "n = 100"
   ]
  },
  {
   "cell_type": "code",
   "execution_count": 3,
   "id": "d0c4298e",
   "metadata": {},
   "outputs": [],
   "source": [
    "def combinations(n, k):\n",
    "    return np.math.factorial(n) / (np.math.factorial(k) * np.math.factorial(n - k))"
   ]
  },
  {
   "cell_type": "code",
   "execution_count": 4,
   "id": "5de41277",
   "metadata": {},
   "outputs": [
    {
     "data": {
      "text/plain": [
       "0.048061793700746355"
      ]
     },
     "execution_count": 4,
     "metadata": {},
     "output_type": "execute_result"
    }
   ],
   "source": [
    "P = combinations(n, k) * p**k * (1-p)**(n-k)\n",
    "P"
   ]
  },
  {
   "cell_type": "markdown",
   "id": "b6d7d006",
   "metadata": {},
   "source": [
    "### Задание 2"
   ]
  },
  {
   "cell_type": "code",
   "execution_count": 5,
   "id": "dba6e621",
   "metadata": {},
   "outputs": [],
   "source": [
    "p_lamp = 0.0004\n",
    "n_lamp = 5000\n",
    "lam = p_lamp * n_lamp"
   ]
  },
  {
   "cell_type": "markdown",
   "id": "de7a06ac",
   "metadata": {},
   "source": [
    "a) m = 0"
   ]
  },
  {
   "cell_type": "code",
   "execution_count": 6,
   "id": "fb84a655",
   "metadata": {},
   "outputs": [
    {
     "data": {
      "text/plain": [
       "0.1353352832366127"
      ]
     },
     "execution_count": 6,
     "metadata": {},
     "output_type": "execute_result"
    }
   ],
   "source": [
    "P_m = lam**0 * np.math.exp(-lam) / np.math.factorial(0)\n",
    "P_m"
   ]
  },
  {
   "cell_type": "markdown",
   "id": "e9e1dda6",
   "metadata": {},
   "source": [
    "б) m = 2"
   ]
  },
  {
   "cell_type": "code",
   "execution_count": 7,
   "id": "bef7239e",
   "metadata": {},
   "outputs": [
    {
     "data": {
      "text/plain": [
       "0.2706705664732254"
      ]
     },
     "execution_count": 7,
     "metadata": {},
     "output_type": "execute_result"
    }
   ],
   "source": [
    "P_m = lam**2 * np.math.exp(-lam) / np.math.factorial(2)\n",
    "P_m"
   ]
  },
  {
   "cell_type": "markdown",
   "id": "1442256f",
   "metadata": {},
   "source": [
    "### Задание 3"
   ]
  },
  {
   "cell_type": "code",
   "execution_count": 8,
   "id": "e2de76b6",
   "metadata": {},
   "outputs": [],
   "source": [
    "p = 1/2\n",
    "q = 1/2\n",
    "n = 144\n",
    "k = 70"
   ]
  },
  {
   "cell_type": "code",
   "execution_count": 9,
   "id": "178ba5fa",
   "metadata": {},
   "outputs": [
    {
     "data": {
      "text/plain": [
       "0.06281178035144776"
      ]
     },
     "execution_count": 9,
     "metadata": {},
     "output_type": "execute_result"
    }
   ],
   "source": [
    "P = combinations(n, k) * p**k * (1-p)**(n-k)\n",
    "P"
   ]
  },
  {
   "cell_type": "markdown",
   "id": "d146ab69",
   "metadata": {},
   "source": [
    "### Задание 4"
   ]
  },
  {
   "cell_type": "code",
   "execution_count": 10,
   "id": "f8cd1a0f",
   "metadata": {},
   "outputs": [],
   "source": [
    "w1 = 7\n",
    "w2 = 9\n",
    "b1 = 3\n",
    "b2 = 2\n",
    "box1 = w1 + b1\n",
    "box2 = w2 + b2"
   ]
  },
  {
   "cell_type": "code",
   "execution_count": 11,
   "id": "d66a9dcd",
   "metadata": {},
   "outputs": [
    {
     "data": {
      "text/plain": [
       "0.3054545454545454"
      ]
     },
     "execution_count": 11,
     "metadata": {},
     "output_type": "execute_result"
    }
   ],
   "source": [
    "P_all_white = w1/box1 * (w1-1) / (box1-1) * w2/box2 * (w2-1) / (box2-1)\n",
    "P_all_white"
   ]
  },
  {
   "cell_type": "code",
   "execution_count": 12,
   "id": "5efe8f73",
   "metadata": {},
   "outputs": [
    {
     "data": {
      "text/plain": [
       "0.20484848484848486"
      ]
     },
     "execution_count": 12,
     "metadata": {},
     "output_type": "execute_result"
    }
   ],
   "source": [
    "P_two_white = sum([combinations(b1, 2) / combinations(box1, 2) * combinations(w2, 2) / combinations(box2, 2), \n",
    "                   combinations(w1, 1) * combinations(b1, 1) / combinations(box1, 2) * combinations(w2, 1) * \n",
    "                   combinations(b2, 1) / combinations(box2, 2), \n",
    "                   combinations(w1, 2) / combinations(box1, 2) * combinations(b2, 2) / combinations(box2, 2)])\n",
    "P_two_white"
   ]
  },
  {
   "cell_type": "code",
   "execution_count": 13,
   "id": "9ed48143",
   "metadata": {},
   "outputs": [
    {
     "data": {
      "text/plain": [
       "0.9987878787878788"
      ]
     },
     "execution_count": 13,
     "metadata": {},
     "output_type": "execute_result"
    }
   ],
   "source": [
    "P_one_white = 1 - b1 / box1 * (b1-1) / (box1 -1) * b2 / box2 * (b2 - 1) / (box2 - 1)\n",
    "P_one_white"
   ]
  },
  {
   "cell_type": "code",
   "execution_count": null,
   "id": "50138299",
   "metadata": {},
   "outputs": [],
   "source": []
  }
 ],
 "metadata": {
  "kernelspec": {
   "display_name": "Python 3 (ipykernel)",
   "language": "python",
   "name": "python3"
  },
  "language_info": {
   "codemirror_mode": {
    "name": "ipython",
    "version": 3
   },
   "file_extension": ".py",
   "mimetype": "text/x-python",
   "name": "python",
   "nbconvert_exporter": "python",
   "pygments_lexer": "ipython3",
   "version": "3.9.12"
  }
 },
 "nbformat": 4,
 "nbformat_minor": 5
}
