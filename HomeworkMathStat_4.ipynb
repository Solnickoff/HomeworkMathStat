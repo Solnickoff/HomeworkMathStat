{
 "cells": [
  {
   "cell_type": "markdown",
   "id": "7853310f",
   "metadata": {},
   "source": [
    "### Задание 1"
   ]
  },
  {
   "cell_type": "code",
   "execution_count": 1,
   "id": "3171b4e6",
   "metadata": {},
   "outputs": [],
   "source": [
    "import numpy as np\n",
    "import matplotlib.pyplot as plt"
   ]
  },
  {
   "cell_type": "code",
   "execution_count": 2,
   "id": "6db26e65",
   "metadata": {},
   "outputs": [],
   "source": [
    "A = np.arange(200, 801)"
   ]
  },
  {
   "cell_type": "code",
   "execution_count": 3,
   "id": "8bb6a06a",
   "metadata": {},
   "outputs": [],
   "source": [
    "A_mean = A.mean()\n",
    "A_var = A.var()"
   ]
  },
  {
   "cell_type": "code",
   "execution_count": 4,
   "id": "42186fe1",
   "metadata": {},
   "outputs": [
    {
     "name": "stdout",
     "output_type": "stream",
     "text": [
      "500.0\n"
     ]
    },
    {
     "data": {
      "text/plain": [
       "30100.0"
      ]
     },
     "execution_count": 4,
     "metadata": {},
     "output_type": "execute_result"
    }
   ],
   "source": [
    "print(A_mean)\n",
    "A_var"
   ]
  },
  {
   "cell_type": "markdown",
   "id": "20395504",
   "metadata": {},
   "source": [
    "### Задание 2"
   ]
  },
  {
   "cell_type": "code",
   "execution_count": null,
   "id": "905fb4c4",
   "metadata": {},
   "outputs": [],
   "source": []
  },
  {
   "cell_type": "code",
   "execution_count": null,
   "id": "3de3c3d6",
   "metadata": {},
   "outputs": [],
   "source": []
  },
  {
   "cell_type": "code",
   "execution_count": null,
   "id": "b66d7fcc",
   "metadata": {},
   "outputs": [],
   "source": []
  },
  {
   "cell_type": "code",
   "execution_count": null,
   "id": "765c1fb2",
   "metadata": {},
   "outputs": [],
   "source": []
  },
  {
   "cell_type": "markdown",
   "id": "e49719e2",
   "metadata": {},
   "source": [
    "### Задание 3"
   ]
  },
  {
   "cell_type": "code",
   "execution_count": 5,
   "id": "a40e14e2",
   "metadata": {},
   "outputs": [],
   "source": [
    "f = lambda x: (1 / (4 * np.math.sqrt(2*np.math.pi))) * np.math.exp((-1*(x+2)**2) / 32)"
   ]
  },
  {
   "cell_type": "markdown",
   "id": "c0479956",
   "metadata": {},
   "source": [
    "Ответ:"
   ]
  },
  {
   "cell_type": "code",
   "execution_count": 6,
   "id": "bd80750a",
   "metadata": {},
   "outputs": [],
   "source": [
    "M = -2\n",
    "D = 16\n",
    "std = 4"
   ]
  },
  {
   "cell_type": "markdown",
   "id": "65a5c25d",
   "metadata": {},
   "source": [
    "### Задание 4"
   ]
  },
  {
   "cell_type": "code",
   "execution_count": 7,
   "id": "a7de58e1",
   "metadata": {},
   "outputs": [],
   "source": [
    "height_mean = 174\n",
    "std = 8\n",
    "height = np.arange(150, 199)"
   ]
  },
  {
   "cell_type": "code",
   "execution_count": 8,
   "id": "a6677de9",
   "metadata": {},
   "outputs": [],
   "source": [
    "f1 = lambda x: (1 / (std * np.math.sqrt(2*np.math.pi))) * np.math.exp((-1*(x-height_mean)**2) / std**2)\n",
    "b = np.array(list(map(f1, height)))*100"
   ]
  },
  {
   "cell_type": "code",
   "execution_count": 13,
   "id": "26f9a174",
   "metadata": {},
   "outputs": [
    {
     "data": {
      "image/png": "[encoded data removed]",
      "text/plain": [
       "<Figure size 432x288 with 1 Axes>"
      ]
     },
     "metadata": {
      "needs_background": "light"
     },
     "output_type": "display_data"
    }
   ],
   "source": [
    "plt.plot(height, b, '-')\n",
    "plt.show()"
   ]
  },
  {
   "cell_type": "markdown",
   "id": "4bdbbdf1",
   "metadata": {},
   "source": [
    "a) больше 182 см "
   ]
  },
  {
   "cell_type": "code",
   "execution_count": 16,
   "id": "4d78da0f",
   "metadata": {},
   "outputs": [
    {
     "data": {
      "text/plain": [
       "32.6530612244898"
      ]
     },
     "execution_count": 16,
     "metadata": {},
     "output_type": "execute_result"
    }
   ],
   "source": [
    "p = len(height[height > 182])/len(height) * 100\n",
    "p"
   ]
  },
  {
   "cell_type": "markdown",
   "id": "07a1cc42",
   "metadata": {},
   "source": [
    "б) больше 190 см"
   ]
  },
  {
   "cell_type": "code",
   "execution_count": 17,
   "id": "09fcefba",
   "metadata": {},
   "outputs": [
    {
     "data": {
      "text/plain": [
       "16.3265306122449"
      ]
     },
     "execution_count": 17,
     "metadata": {},
     "output_type": "execute_result"
    }
   ],
   "source": [
    "p = len(height[height > 190])/len(height) * 100\n",
    "p"
   ]
  },
  {
   "cell_type": "markdown",
   "id": "8fd35bb1",
   "metadata": {},
   "source": [
    "в). от 166 см до 190 см"
   ]
  },
  {
   "cell_type": "code",
   "execution_count": 23,
   "id": "635a6976",
   "metadata": {},
   "outputs": [
    {
     "data": {
      "text/plain": [
       "51.02040816326531"
      ]
     },
     "execution_count": 23,
     "metadata": {},
     "output_type": "execute_result"
    }
   ],
   "source": [
    "p = (len(height) - len(height[height > 190]) - len(height[height < 166]))/len(height) * 100\n",
    "p"
   ]
  },
  {
   "cell_type": "markdown",
   "id": "94367c40",
   "metadata": {},
   "source": [
    "г). от 166 см до 182 см"
   ]
  },
  {
   "cell_type": "code",
   "execution_count": 24,
   "id": "4d666279",
   "metadata": {},
   "outputs": [
    {
     "data": {
      "text/plain": [
       "34.69387755102041"
      ]
     },
     "execution_count": 24,
     "metadata": {},
     "output_type": "execute_result"
    }
   ],
   "source": [
    "p = (len(height) - len(height[height > 182]) - len(height[height < 166]))/len(height) * 100\n",
    "p"
   ]
  },
  {
   "cell_type": "markdown",
   "id": "5649e57d",
   "metadata": {},
   "source": [
    "д). от 158 см до 190 см"
   ]
  },
  {
   "cell_type": "code",
   "execution_count": 25,
   "id": "278b149b",
   "metadata": {},
   "outputs": [
    {
     "data": {
      "text/plain": [
       "67.3469387755102"
      ]
     },
     "execution_count": 25,
     "metadata": {},
     "output_type": "execute_result"
    }
   ],
   "source": [
    "p = (len(height) - len(height[height > 190]) - len(height[height < 158]))/len(height) * 100\n",
    "p"
   ]
  },
  {
   "cell_type": "markdown",
   "id": "8d2e36ba",
   "metadata": {},
   "source": [
    "е). не выше 150 см или не ниже 190 см"
   ]
  },
  {
   "cell_type": "code",
   "execution_count": 32,
   "id": "2e952ec9",
   "metadata": {},
   "outputs": [
    {
     "data": {
      "text/plain": [
       "20.408163265306126"
      ]
     },
     "execution_count": 32,
     "metadata": {},
     "output_type": "execute_result"
    }
   ],
   "source": [
    "p = len(height[height >= 190])/len(height) * 100 + len(height[height <= 150])/len(height) * 100\n",
    "p"
   ]
  },
  {
   "cell_type": "markdown",
   "id": "b861ee75",
   "metadata": {},
   "source": [
    "ё). не выше 150 см или не ниже 198 см"
   ]
  },
  {
   "cell_type": "code",
   "execution_count": 33,
   "id": "aba6cd81",
   "metadata": {},
   "outputs": [
    {
     "data": {
      "text/plain": [
       "4.081632653061225"
      ]
     },
     "execution_count": 33,
     "metadata": {},
     "output_type": "execute_result"
    }
   ],
   "source": [
    "p = len(height[height >= 198])/len(height) * 100 + len(height[height <= 150])/len(height) * 100\n",
    "p"
   ]
  },
  {
   "cell_type": "markdown",
   "id": "6392141b",
   "metadata": {},
   "source": [
    "ж). ниже 166 см."
   ]
  },
  {
   "cell_type": "code",
   "execution_count": 34,
   "id": "b8aa87b5",
   "metadata": {},
   "outputs": [
    {
     "data": {
      "text/plain": [
       "32.6530612244898"
      ]
     },
     "execution_count": 34,
     "metadata": {},
     "output_type": "execute_result"
    }
   ],
   "source": [
    "p = len(height[height < 166])/len(height) * 100\n",
    "p"
   ]
  },
  {
   "cell_type": "markdown",
   "id": "d1bd9fd3",
   "metadata": {},
   "source": [
    "### Задание 5"
   ]
  },
  {
   "cell_type": "code",
   "execution_count": 36,
   "id": "2956b48e",
   "metadata": {},
   "outputs": [
    {
     "data": {
      "text/plain": [
       "2.4"
      ]
     },
     "execution_count": 36,
     "metadata": {},
     "output_type": "execute_result"
    }
   ],
   "source": [
    "otvet = (190-178)/5\n",
    "otvet"
   ]
  }
 ],
 "metadata": {
  "kernelspec": {
   "display_name": "Python 3 (ipykernel)",
   "language": "python",
   "name": "python3"
  },
  "language_info": {
   "codemirror_mode": {
    "name": "ipython",
    "version": 3
   },
   "file_extension": ".py",
   "mimetype": "text/x-python",
   "name": "python",
   "nbconvert_exporter": "python",
   "pygments_lexer": "ipython3",
   "version": "3.9.12"
  }
 },
 "nbformat": 4,
 "nbformat_minor": 5
}
